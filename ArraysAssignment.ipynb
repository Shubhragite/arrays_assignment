{
  "nbformat": 4,
  "nbformat_minor": 0,
  "metadata": {
    "colab": {
      "provenance": []
    },
    "kernelspec": {
      "name": "python3",
      "display_name": "Python 3"
    },
    "language_info": {
      "name": "python"
    }
  },
  "cells": [
    {
      "cell_type": "code",
      "execution_count": 1,
      "metadata": {
        "colab": {
          "base_uri": "https://localhost:8080/"
        },
        "id": "jQ7UCfVWXDaG",
        "outputId": "a2cb3638-775f-45dc-da12-37b70bb906fe"
      },
      "outputs": [
        {
          "output_type": "stream",
          "name": "stdout",
          "text": [
            "True\n"
          ]
        }
      ],
      "source": [
        "#Q.1 find duplicates\n",
        "def array_dup(arr):\n",
        "  iter = set() #maintaining set called iter to store elements encountered so far.\n",
        "  for n in arr:\n",
        "    if n in iter:\n",
        "      return True\n",
        "    iter.add(n)\n",
        "  return False\n",
        "\n",
        "arr = [1, 2, 4, 2, 5, 9]\n",
        "print(array_dup(arr))"
      ]
    },
    {
      "cell_type": "code",
      "source": [
        "#Q.2 ROTATE AN ARRAY BY K=3\n",
        "\n",
        "def rotate_array(arr, k):\n",
        "  k = k % len(arr)\n",
        "  arr.reverse() #reverse the entire array\n",
        "  reverse(arr , 0 , k-1) #reverse the first k elements\n",
        "  reverse(arr, k, len(arr)-1) #reverse the remaining elements\n",
        "\n",
        "def reverse(arr, start, end):\n",
        "  while start < end:\n",
        "    arr[start], arr[end] = arr[end], arr[start]\n",
        "    start += 1\n",
        "    end -= 1\n",
        "\n",
        "arr = [1,2,3,4,5,6,7]\n",
        "k = 3\n",
        "rotate_array(arr,k)\n",
        "print(arr)"
      ],
      "metadata": {
        "colab": {
          "base_uri": "https://localhost:8080/"
        },
        "id": "IllVo4WiXKLm",
        "outputId": "eb556fd9-0cfa-48cd-c04d-bd0c2875f974"
      },
      "execution_count": 2,
      "outputs": [
        {
          "output_type": "stream",
          "name": "stdout",
          "text": [
            "[5, 6, 7, 1, 2, 3, 4]\n"
          ]
        }
      ]
    },
    {
      "cell_type": "code",
      "source": [
        "#Q.3\n",
        "def reverse(arr):\n",
        "  start = 0\n",
        "  end = len(arr)-1\n",
        "  while start < end:\n",
        "    arr[start], arr[end] = arr[end], arr[start]\n",
        "    start += 1\n",
        "    end -= 1\n",
        "\n",
        "arr = [2,4,5,7,9,12]\n",
        "k = 3\n",
        "reverse(arr)\n",
        "print(arr)"
      ],
      "metadata": {
        "colab": {
          "base_uri": "https://localhost:8080/"
        },
        "id": "u8YinVjxXOox",
        "outputId": "458daf90-352f-429f-da81-6e14fe6bfcb4"
      },
      "execution_count": 5,
      "outputs": [
        {
          "output_type": "stream",
          "name": "stdout",
          "text": [
            "[12, 9, 7, 5, 4, 2]\n"
          ]
        }
      ]
    },
    {
      "cell_type": "code",
      "source": [
        "#Q.4\n",
        "def array_max(arr):\n",
        "  max_element = arr[0] #initialise maximum element with the first element\n",
        "  for n in arr[1:]:  #iterate through teh array starting from the second element\n",
        "    if n> max_element:\n",
        "      max_element = n #update max_element if a larger element is found\n",
        "\n",
        "  return max_element\n",
        "\n",
        "arr = [10, 5, 20, 8, 15]\n",
        "print(array_max(arr))\n"
      ],
      "metadata": {
        "colab": {
          "base_uri": "https://localhost:8080/"
        },
        "id": "pf34_u_QXgV2",
        "outputId": "c50a82d4-3bdd-4e08-c861-65c2d66944f4"
      },
      "execution_count": 2,
      "outputs": [
        {
          "output_type": "stream",
          "name": "stdout",
          "text": [
            "20\n"
          ]
        }
      ]
    },
    {
      "cell_type": "code",
      "source": [
        "#Q.5\n",
        "def remove_duplicates(arr):\n",
        "    if not arr:  # Check if the array is empty\n",
        "        return []\n",
        "\n",
        "    # Initialize a pointer to track the position to insert the next unique element\n",
        "    unique_index = 1\n",
        "\n",
        "    # Iterate through the array starting from the second element\n",
        "    for i in range(1, len(arr)):\n",
        "        # If the current element is different from the previous unique element\n",
        "        if arr[i] != arr[i - 1]:\n",
        "            # Move the current element to the position indicated by the unique_index\n",
        "            arr[unique_index] = arr[i]\n",
        "            # Increment unique_index to mark the next position for a unique element\n",
        "            unique_index += 1\n",
        "\n",
        "    # Trim the array to remove elements beyond unique_index (i.e., duplicates)\n",
        "    arr = arr[:unique_index]\n",
        "\n",
        "    return arr\n",
        "\n",
        "arr = [1, 1, 2, 2, 2, 3, 3, 4, 4, 4, 5, 5]\n",
        "print(remove_duplicates(arr))  # Output: [1, 2, 3, 4, 5]\n"
      ],
      "metadata": {
        "colab": {
          "base_uri": "https://localhost:8080/"
        },
        "id": "KUZ7lp11aNCh",
        "outputId": "1424b345-6442-4322-d9e7-2c06e1ee8e83"
      },
      "execution_count": 3,
      "outputs": [
        {
          "output_type": "stream",
          "name": "stdout",
          "text": [
            "[1, 2, 3, 4, 5]\n"
          ]
        }
      ]
    },
    {
      "cell_type": "code",
      "source": [],
      "metadata": {
        "id": "T-D4SjooI1nh"
      },
      "execution_count": null,
      "outputs": []
    }
  ]
}